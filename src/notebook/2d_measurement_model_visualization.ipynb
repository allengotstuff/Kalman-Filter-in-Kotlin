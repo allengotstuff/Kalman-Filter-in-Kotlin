{
 "cells": [
  {
   "cell_type": "code",
   "metadata": {
    "collapsed": true,
    "ExecuteTime": {
     "end_time": "2025-02-06T05:53:23.176979Z",
     "start_time": "2025-02-06T05:53:22.087387Z"
    }
   },
   "source": [
    "USE {\n",
    "    repositories {\n",
    "        mavenCentral()\n",
    "    }\n",
    "\n",
    "    dependencies {\n",
    "        implementation(\"org.apache.commons:commons-math3:3.6.1\")\n",
    "    }\n",
    "}"
   ],
   "outputs": [],
   "execution_count": 1
  },
  {
   "metadata": {
    "ExecuteTime": {
     "end_time": "2025-02-06T05:53:48.414663Z",
     "start_time": "2025-02-06T05:53:36.754202Z"
    }
   },
   "cell_type": "code",
   "source": [
    "%use kandy\n",
    "%use dataframe\n"
   ],
   "outputs": [],
   "execution_count": 2
  },
  {
   "metadata": {},
   "cell_type": "code",
   "outputs": [],
   "execution_count": null,
   "source": "import org.kalman."
  }
 ],
 "metadata": {
  "kernelspec": {
   "display_name": "Kotlin",
   "language": "kotlin",
   "name": "kotlin"
  },
  "language_info": {
   "name": "kotlin",
   "version": "1.9.23",
   "mimetype": "text/x-kotlin",
   "file_extension": ".kt",
   "pygments_lexer": "kotlin",
   "codemirror_mode": "text/x-kotlin",
   "nbconvert_exporter": ""
  }
 },
 "nbformat": 4,
 "nbformat_minor": 0
}
