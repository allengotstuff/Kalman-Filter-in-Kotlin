{
 "cells": [
  {
   "cell_type": "code",
   "metadata": {
    "collapsed": true,
    "ExecuteTime": {
     "end_time": "2025-02-08T22:18:30.077522Z",
     "start_time": "2025-02-08T22:18:28.926002Z"
    }
   },
   "source": [
    "USE {\n",
    "    repositories {\n",
    "        mavenCentral()\n",
    "    }\n",
    "\n",
    "    dependencies {\n",
    "        implementation(\"org.apache.commons:commons-math3:3.6.1\")\n",
    "    }\n",
    "}"
   ],
   "outputs": [],
   "execution_count": 1
  },
  {
   "metadata": {
    "jupyter": {
     "is_executing": true
    },
    "ExecuteTime": {
     "start_time": "2025-02-08T22:18:30.102027Z"
    }
   },
   "cell_type": "code",
   "source": [
    "%use kandy\n",
    "%use dataframe\n"
   ],
   "outputs": [],
   "execution_count": null
  },
  {
   "metadata": {},
   "cell_type": "code",
   "source": [
    "fun createPlotableDateFrame(datas: List<List<Double>>, labels: List<String>):DataFrame<*>{\n",
    "    val firstSize = datas[0].size\n",
    "    require(datas.size == labels.size )\n",
    "    require(datas.all { it.size == firstSize })\n",
    "    \n",
    "    return dataFrameOf(\n",
    "        \"datas\" to datas.flatten(),\n",
    "        \"labels\" to datas.zip(labels).map {(individualData, label_string) -> List(individualData.size){label_string} }.flatten(),\n",
    "        \"index\" to datas.map { sublist -> List(sublist.size){it}}.flatten()\n",
    "    )\n",
    "}\n",
    "\n",
    "//Test\n",
    "//createPlotableDateFrame(\n",
    "//    datas = listOf(\n",
    "//        listOf(1.0,2.0,3.0),\n",
    "//        listOf(4.0,5.0,6.0),\n",
    "//        listOf(7.0,8.0,9.0),\n",
    "//    ),\n",
    "//    labels = listOf(\"first label\", \"second label\", \"third label\")\n",
    "//).let { \n",
    "//    print(it)\n",
    "//}\n",
    "\n"
   ],
   "outputs": [],
   "execution_count": null
  },
  {
   "metadata": {},
   "cell_type": "code",
   "source": [
    "import kotlin.random.Random\n",
    "import org.kalman.calibration.measurement.Linear2DMeasurementCalibration\n",
    "import org.kalman.calibration.measurement.MeasurementCalibration\n",
    "\n",
    "/**\n",
    " * Creating 2d linear mode for model Calibration \n",
    " */\n",
    "val linearCalibration: MeasurementCalibration = Linear2DMeasurementCalibration()\n",
    "linearCalibration.iterate(100)\n",
    "\n",
    "val plotData = createPlotableDateFrame(\n",
    "    datas = listOf(\n",
    "        linearCalibration.hiddenStates.map { it.maxValue },\n",
    "        linearCalibration.measuredStates.map { it.maxValue }\n",
    "    ),\n",
    "    labels = listOf(\"TrueHiddeStates\", \"MeasuredStates\")\n",
    ")\n",
    "\n",
    "\n",
    "plotData.plot {\n",
    "    line {\n",
    "        x(\"index\")\n",
    "        y(\"datas\")\n",
    "        color(\"labels\"){\n",
    "            scale = categorical(\"TrueHiddeStates\" to Color.BLUE, \"MeasuredStates\" to Color.RED )\n",
    "        }\n",
    "    }\n",
    "    layout.size = 1500 to 450\n",
    "    \n",
    "    layout.title = \"Generate 2D Linear Data For Calibration\"\n",
    "}\n"
   ],
   "outputs": [],
   "execution_count": null
  },
  {
   "metadata": {},
   "cell_type": "code",
   "source": [
    "import org.apache.commons.math3.linear.ArrayRealVector\n",
    "import org.apache.commons.math3.linear.Array2DRowRealMatrix\n",
    "import org.apache.commons.math3.linear.RealMatrix\n",
    "import org.apache.commons.math3.linear.RealVector\n",
    "import org.kalman.wrapper.KalmanFilterProcess\n",
    "\n",
    "/**\n",
    " * Creating Kalman filter and calibrate it with generated dataset.\n",
    " */\n",
    "val kfProcess = KalmanFilterProcess(\n",
    "    debugEnabled = true,\n",
    "    states = ArrayRealVector(\n",
    "        doubleArrayOf(\n",
    "            50.0 //initial estimation\n",
    "        )\n",
    "    ),\n",
    "    stateTransitionMatrix = Array2DRowRealMatrix(\n",
    "        arrayOf(\n",
    "            doubleArrayOf(1.0) // assuming the state is still\n",
    "        )\n",
    "    ),\n",
    "    covarianceMatrix = Array2DRowRealMatrix(\n",
    "        arrayOf(\n",
    "            doubleArrayOf(200.0 * 200.0) // initial co-variance\n",
    "        )\n",
    "    ),\n",
    "    processMatrix = Array2DRowRealMatrix(\n",
    "        arrayOf(\n",
    "            doubleArrayOf(600*500.0) // assuming process variance of 25\n",
    "        )\n",
    "    )\n",
    ")\n",
    "\n",
    "\n",
    "repeat(linearCalibration.hiddenStates.size){index ->\n",
    "    kfProcess.predict()\n",
    "\n",
    "    kfProcess.update(\n",
    "        y = linearCalibration.measuredStates[index],\n",
    "        r = linearCalibration.measurementCovariances[index]\n",
    "    )\n",
    "}\n",
    "\n",
    "\n",
    "/**\n",
    " * plot graph \n",
    " */\n",
    "\n",
    "val test = createPlotableDateFrame(\n",
    "    datas = listOf(\n",
    "        linearCalibration.hiddenStates.map { it.maxValue },\n",
    "        kfProcess.debug().map { it.y.maxValue },\n",
    "        kfProcess.debug().map { it.x.maxValue }\n",
    "    ),\n",
    "    labels = listOf(\n",
    "        \"Calibration_Hidden_State\", \n",
    "        \"KF_Measurement\",\n",
    "        \"KF_Estimate\"\n",
    "        )\n",
    ")\n",
    "\n",
    "test.plot {\n",
    "    line {\n",
    "        x(\"index\")\n",
    "        y(\"datas\")\n",
    "        color(\"labels\"){\n",
    "            scale = categorical(\n",
    "                \"Calibration_Hidden_State\" to Color.RED,\n",
    "                \"KF_Measurement\" to Color.GREY,\n",
    "                \"KF_Estimate\" to Color.PURPLE,\n",
    "                )\n",
    "        }\n",
    "    }\n",
    "    layout.size = 1500 to 450\n",
    "\n",
    "    layout.title = \"Generate 2D Linear Data For Calibration\"\n",
    "}\n"
   ],
   "outputs": [],
   "execution_count": null
  }
 ],
 "metadata": {
  "kernelspec": {
   "display_name": "Kotlin",
   "language": "kotlin",
   "name": "kotlin"
  },
  "language_info": {
   "name": "kotlin",
   "version": "1.9.23",
   "mimetype": "text/x-kotlin",
   "file_extension": ".kt",
   "pygments_lexer": "kotlin",
   "codemirror_mode": "text/x-kotlin",
   "nbconvert_exporter": ""
  },
  "ktnbPluginMetadata": {
   "projectDependencies": [
    "KalmanFilter.main",
    "KalmanFilter.test"
   ]
  }
 },
 "nbformat": 4,
 "nbformat_minor": 0
}
