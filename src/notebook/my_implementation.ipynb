{
 "cells": [
  {
   "cell_type": "code",
   "metadata": {
    "collapsed": true
   },
   "source": [
    "USE {\n",
    "    repositories {\n",
    "        mavenCentral()\n",
    "    }\n",
    "\n",
    "    dependencies {\n",
    "        implementation(\"org.apache.commons:commons-math3:3.6.1\")\n",
    "    }\n",
    "}"
   ],
   "outputs": [],
   "execution_count": null
  },
  {
   "metadata": {},
   "cell_type": "code",
   "source": [
    "%use kandy\n",
    "%use dataframe"
   ],
   "outputs": [],
   "execution_count": null
  },
  {
   "metadata": {
    "ExecuteTime": {
     "end_time": "2024-11-18T07:01:33.902699Z",
     "start_time": "2024-11-18T07:01:33.710468Z"
    }
   },
   "cell_type": "code",
   "source": [
    "import org.example.MyKalmanFilter\n",
    "import org.apache.commons.math3.linear.ArrayRealVector\n",
    "import org.apache.commons.math3.linear.Array2DRowRealMatrix\n",
    "import org.apache.commons.math3.linear.RealMatrix\n",
    "import org.apache.commons.math3.linear.RealVector\n",
    "\n",
    "val kf = MyKalmanFilter()\n",
    "\n",
    "\n",
    "val a = Array2DRowRealMatrix(\n",
    "    arrayOf(\n",
    "        doubleArrayOf(2.0,40.0) // assuming the state is still\n",
    "    )\n",
    ")\n",
    "\n",
    "val x: RealVector = ArrayRealVector(\n",
    "    doubleArrayOf(\n",
    "        50.0 //initial estimation\n",
    "    )\n",
    ")\n",
    "\n",
    "val b = Array2DRowRealMatrix(\n",
    "    arrayOf(\n",
    "        doubleArrayOf(11.0,22.0) // assuming the input has not effect on states\n",
    "    )\n",
    ")\n",
    "\n",
    "val u = ArrayRealVector(\n",
    "    doubleArrayOf(\n",
    "        1.0\n",
    "    )\n",
    ")\n",
    "\n",
    "val p: RealMatrix = Array2DRowRealMatrix(\n",
    "    arrayOf(\n",
    "        doubleArrayOf(100.0 * 100.0) // initial co-variance\n",
    "    )\n",
    ")\n",
    "\n",
    "\n",
    "val q = Array2DRowRealMatrix(\n",
    "    arrayOf(\n",
    "        doubleArrayOf(0.0) // assuming the process remain still\n",
    "    )\n",
    ")\n",
    "\n",
    "\n",
    "println(\"a: $a\")\n",
    "println(\"b :$b\")\n",
    "\n",
    "val changedA = a.transpose()\n",
    "val changedB = b.transpose()\n",
    "\n",
    "println(\"a: $changedA\")\n",
    "println(\"b :$b\")\n",
    "\n",
    "\n"
   ],
   "outputs": [
    {
     "name": "stdout",
     "output_type": "stream",
     "text": [
      "a: Array2DRowRealMatrix{{2.0,40.0}}\n",
      "b :Array2DRowRealMatrix{{11.0,22.0}}\n",
      "a: Array2DRowRealMatrix{{2.0},{40.0}}\n",
      "b :Array2DRowRealMatrix{{11.0,22.0}}\n"
     ]
    }
   ],
   "execution_count": 26
  }
 ],
 "metadata": {
  "kernelspec": {
   "display_name": "Kotlin",
   "language": "kotlin",
   "name": "kotlin"
  },
  "language_info": {
   "name": "kotlin",
   "version": "1.9.23",
   "mimetype": "text/x-kotlin",
   "file_extension": ".kt",
   "pygments_lexer": "kotlin",
   "codemirror_mode": "text/x-kotlin",
   "nbconvert_exporter": ""
  },
  "ktnbPluginMetadata": {
   "projectDependencies": true
  }
 },
 "nbformat": 4,
 "nbformat_minor": 0
}
